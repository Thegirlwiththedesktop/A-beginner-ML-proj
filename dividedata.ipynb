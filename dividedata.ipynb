{
 "cells": [
  {
   "cell_type": "markdown",
   "metadata": {},
   "source": [
    "# DIVIDE DATA"
   ]
  },
  {
   "cell_type": "markdown",
   "metadata": {},
   "source": [
    "spliting the data into 3 &\n",
    "import the relevent imports"
   ]
  },
  {
   "cell_type": "code",
   "execution_count": 13,
   "metadata": {},
   "outputs": [],
   "source": [
    "import pandas as pd\n",
    "from sklearn import datasets, linear_model\n",
    "from sklearn.model_selection import train_test_split\n",
    "from matplotlib import pyplot as plt\n",
    "#from numpy import *\n",
    "import numpy"
   ]
  },
  {
   "cell_type": "code",
   "execution_count": 14,
   "metadata": {
    "scrolled": true
   },
   "outputs": [],
   "source": [
    "### Importing some useful packages\n",
    "#This ensures that plots appear in the sheet and not in a new window\n",
    "import matplotlib.pyplot\n",
    "%matplotlib inline \n",
    "import numpy as np\n",
    "\n",
    "import pandas as pd\n",
    "\n",
    "#data = np.genfromtxt('online_shoppers_intention_selection.csv',delimiter=\",\")\n",
    "#datafile_name = 'path_to_data_file'\n",
    "\n",
    "data = pd.read_csv('online_shoppers_intention_selection.csv')\n",
    "X=data.iloc[:,0:18]\n",
    "y = data['Revenue']\n",
    "#####\n",
    "#The final column is not a feature; it's the target variab\n",
    "\n"
   ]
  },
  {
   "cell_type": "markdown",
   "metadata": {},
   "source": [
    "Split data into training,test and cross-validation sets\n"
   ]
  },
  {
   "cell_type": "code",
   "execution_count": 15,
   "metadata": {},
   "outputs": [],
   "source": [
    "X_train_data, X_test, y_train_data, y_test = train_test_split(X,y,train_size=0.75, shuffle=True)\n",
    "\n",
    "X_train, X_cv, y_train, y_cv = train_test_split(X_train_data,y_train_data,train_size=0.70, shuffle=True)"
   ]
  },
  {
   "cell_type": "markdown",
   "metadata": {},
   "source": [
    "Save the data to independent files"
   ]
  },
  {
   "cell_type": "code",
   "execution_count": 16,
   "metadata": {
    "scrolled": false
   },
   "outputs": [],
   "source": [
    "np.savetxt(\"train.csv\",numpy.array(X_train,y_train),fmt='%i', delimiter=\",\") \n",
    "np.savetxt(\"test.csv\",numpy.array(X_test,y_test),fmt='%i', delimiter=\",\")\n",
    "np.savetxt(\"cv.csv\",numpy.array(X_cv,y_cv),fmt='%i', delimiter=\",\")\n",
    "\n"
   ]
  },
  {
   "cell_type": "code",
   "execution_count": 17,
   "metadata": {},
   "outputs": [],
   "source": [
    "np.savetxt(\"headers.csv\",numpy.array(X[:0]), fmt='%i')\n",
    "#save the headers of each feature on a separate file because when i save,the above files they appear without header"
   ]
  },
  {
   "cell_type": "code",
   "execution_count": 18,
   "metadata": {
    "scrolled": true
   },
   "outputs": [
    {
     "data": {
      "text/plain": [
       "(2003, 18)"
      ]
     },
     "execution_count": 18,
     "metadata": {},
     "output_type": "execute_result"
    }
   ],
   "source": [
    "X_train.shape"
   ]
  },
  {
   "cell_type": "code",
   "execution_count": null,
   "metadata": {},
   "outputs": [],
   "source": []
  },
  {
   "cell_type": "code",
   "execution_count": null,
   "metadata": {},
   "outputs": [],
   "source": []
  }
 ],
 "metadata": {
  "kernelspec": {
   "display_name": "Python 3",
   "language": "python",
   "name": "python3"
  },
  "language_info": {
   "codemirror_mode": {
    "name": "ipython",
    "version": 3
   },
   "file_extension": ".py",
   "mimetype": "text/x-python",
   "name": "python",
   "nbconvert_exporter": "python",
   "pygments_lexer": "ipython3",
   "version": "3.8.3"
  }
 },
 "nbformat": 4,
 "nbformat_minor": 2
}
