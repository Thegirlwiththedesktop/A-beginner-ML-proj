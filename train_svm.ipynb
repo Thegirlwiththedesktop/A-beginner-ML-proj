{
 "cells": [
  {
   "cell_type": "markdown",
   "metadata": {},
   "source": [
    "open the file that consists of the train data"
   ]
  },
  {
   "cell_type": "code",
   "execution_count": 1,
   "metadata": {},
   "outputs": [],
   "source": [
    "import pandas as pd\n",
    "import numpy as np\n",
    "from sklearn.svm import SVC\n",
    "from sklearn.model_selection import train_test_split"
   ]
  },
  {
   "cell_type": "code",
   "execution_count": 2,
   "metadata": {
    "scrolled": true
   },
   "outputs": [],
   "source": [
    "train_data = pd.read_csv('train.csv', delimiter=\",\", header=None)\n",
    "xtrain=train_data.iloc[:,0:17].astype(float)\n",
    "y_train=train_data.iloc[:,-1]\n",
    "\n",
    "####split X_train into train and CV\n",
    "\n",
    "#X_train, X_cv, y_train, y_cv = train_test_split(X,y,train_size=0.70, shuffle=True)\n",
    "#train size always complement data\n",
    "\n",
    "cv_data = pd.read_csv('cv.csv', delimiter=\",\", header=None)\n",
    "xcv=cv_data.iloc[:,0:17].astype(float)\n",
    "y_cv=cv_data.iloc[:,-1]\n",
    "#display(pd.DataFrame(X_train))"
   ]
  },
  {
   "cell_type": "markdown",
   "metadata": {},
   "source": [
    "Scale and optimize my data"
   ]
  },
  {
   "cell_type": "code",
   "execution_count": 3,
   "metadata": {
    "scrolled": false
   },
   "outputs": [],
   "source": [
    "from sklearn.preprocessing import StandardScaler\n",
    "\n",
    "#data scaling\n",
    "scaler = StandardScaler()\n",
    "\n",
    "#### train ###\n",
    "X_train=scaler.fit_transform(xtrain)\n",
    "#X= scaler.fit_transform(X)\n",
    "#np.std(X_train, axis=0)\n",
    "#np.mean(X_train, axis=0)\n",
    "\n",
    "##### test  ####\n",
    "X_cv=scaler.fit_transform(xcv)\n",
    "#np.std(X_test, axis=0)\n",
    "#np.mean(X_test, axis=0)"
   ]
  },
  {
   "cell_type": "code",
   "execution_count": 4,
   "metadata": {},
   "outputs": [],
   "source": [
    "from sklearn.model_selection import KFold # import KFold\n",
    "from sklearn import datasets, linear_model\n",
    "from sklearn.model_selection import cross_validate\n",
    "from sklearn.model_selection import cross_val_score,cross_val_predict\n",
    "from sklearn import metrics\n",
    "\n"
   ]
  },
  {
   "cell_type": "markdown",
   "metadata": {},
   "source": [
    "Below we are looking for different C and gamma values that will yield the highest percentage of the trained model. from the given 8 set values, each C value will be paired with each gamma value, and the observed highest pair will be taken and used as the optimal set values.\n",
    "Using the values, we'll get the highest score value for "
   ]
  },
  {
   "cell_type": "code",
   "execution_count": 5,
   "metadata": {},
   "outputs": [],
   "source": [
    "\n",
    "#store the different gamma values\n",
    "gamma_list=[2**(-11),2**(-9),2**(-7),2**(-5),2**(-3),2**(-1) ,2**1,2**3]\n",
    "c_list=[2**(-3),2**(-1),2**1,2**3,2**5,2**7,2**9,2**11]\n",
    "get_score=list()\n",
    "gamma_c=list()\n",
    "for g in gamma_list:\n",
    "    for c in c_list:\n",
    "        clf=SVC(kernel=\"rbf\",gamma=g,C=c)\n",
    "        clf.fit(X_train,y_train)\n",
    "        get_score.append(clf.score(X_cv,y_cv))\n",
    "        gamma_c.append((g,c))"
   ]
  },
  {
   "cell_type": "code",
   "execution_count": 6,
   "metadata": {
    "scrolled": true
   },
   "outputs": [
    {
     "data": {
      "text/html": [
       "<div>\n",
       "<style scoped>\n",
       "    .dataframe tbody tr th:only-of-type {\n",
       "        vertical-align: middle;\n",
       "    }\n",
       "\n",
       "    .dataframe tbody tr th {\n",
       "        vertical-align: top;\n",
       "    }\n",
       "\n",
       "    .dataframe thead th {\n",
       "        text-align: right;\n",
       "    }\n",
       "</style>\n",
       "<table border=\"1\" class=\"dataframe\">\n",
       "  <thead>\n",
       "    <tr style=\"text-align: right;\">\n",
       "      <th></th>\n",
       "      <th>gamma  ,   C</th>\n",
       "      <th>Score accuracy</th>\n",
       "    </tr>\n",
       "  </thead>\n",
       "  <tbody>\n",
       "    <tr>\n",
       "      <th>0</th>\n",
       "      <td>(0.00048828125, 0.125)</td>\n",
       "      <td>0.532014</td>\n",
       "    </tr>\n",
       "    <tr>\n",
       "      <th>1</th>\n",
       "      <td>(0.00048828125, 0.5)</td>\n",
       "      <td>0.703143</td>\n",
       "    </tr>\n",
       "    <tr>\n",
       "      <th>2</th>\n",
       "      <td>(0.00048828125, 2)</td>\n",
       "      <td>0.756694</td>\n",
       "    </tr>\n",
       "    <tr>\n",
       "      <th>3</th>\n",
       "      <td>(0.00048828125, 8)</td>\n",
       "      <td>0.800931</td>\n",
       "    </tr>\n",
       "    <tr>\n",
       "      <th>4</th>\n",
       "      <td>(0.00048828125, 32)</td>\n",
       "      <td>0.820722</td>\n",
       "    </tr>\n",
       "    <tr>\n",
       "      <th>...</th>\n",
       "      <td>...</td>\n",
       "      <td>...</td>\n",
       "    </tr>\n",
       "    <tr>\n",
       "      <th>59</th>\n",
       "      <td>(8, 8)</td>\n",
       "      <td>0.616997</td>\n",
       "    </tr>\n",
       "    <tr>\n",
       "      <th>60</th>\n",
       "      <td>(8, 32)</td>\n",
       "      <td>0.622817</td>\n",
       "    </tr>\n",
       "    <tr>\n",
       "      <th>61</th>\n",
       "      <td>(8, 128)</td>\n",
       "      <td>0.622817</td>\n",
       "    </tr>\n",
       "    <tr>\n",
       "      <th>62</th>\n",
       "      <td>(8, 512)</td>\n",
       "      <td>0.622817</td>\n",
       "    </tr>\n",
       "    <tr>\n",
       "      <th>63</th>\n",
       "      <td>(8, 2048)</td>\n",
       "      <td>0.622817</td>\n",
       "    </tr>\n",
       "  </tbody>\n",
       "</table>\n",
       "<p>64 rows × 2 columns</p>\n",
       "</div>"
      ],
      "text/plain": [
       "             gamma  ,   C    Score accuracy\n",
       "0   (0.00048828125, 0.125)         0.532014\n",
       "1     (0.00048828125, 0.5)         0.703143\n",
       "2       (0.00048828125, 2)         0.756694\n",
       "3       (0.00048828125, 8)         0.800931\n",
       "4      (0.00048828125, 32)         0.820722\n",
       "..                     ...              ...\n",
       "59                  (8, 8)         0.616997\n",
       "60                 (8, 32)         0.622817\n",
       "61                (8, 128)         0.622817\n",
       "62                (8, 512)         0.622817\n",
       "63               (8, 2048)         0.622817\n",
       "\n",
       "[64 rows x 2 columns]"
      ]
     },
     "execution_count": 6,
     "metadata": {},
     "output_type": "execute_result"
    }
   ],
   "source": [
    "rep_data =pd.DataFrame([gamma_c,get_score],index=[\"gamma  ,   C \",\"  Score accuracy\"])\n",
    "t=pd.DataFrame.transpose(rep_data)\n",
    "t"
   ]
  },
  {
   "cell_type": "code",
   "execution_count": 7,
   "metadata": {},
   "outputs": [
    {
     "name": "stdout",
     "output_type": "stream",
     "text": [
      "Max score is:  0.8428405122235157 \n",
      "With gamma:  0.001953125 and C value:  2048\n"
     ]
    }
   ],
   "source": [
    "#highest percentage\n",
    "\n",
    "g,c=gamma_c[get_score.index(max(get_score))]\n",
    "print(\"Max score is: \",max(get_score),\"\\nWith gamma: \",g, \"and C value: \",c)\n"
   ]
  },
  {
   "cell_type": "markdown",
   "metadata": {},
   "source": [
    "k-fold\n"
   ]
  },
  {
   "cell_type": "code",
   "execution_count": 8,
   "metadata": {},
   "outputs": [],
   "source": [
    "from sklearn.model_selection import KFold\n",
    "from sklearn.metrics import accuracy_score\n",
    "kf=KFold(n_splits=6)"
   ]
  },
  {
   "cell_type": "code",
   "execution_count": 9,
   "metadata": {},
   "outputs": [
    {
     "name": "stdout",
     "output_type": "stream",
     "text": [
      "Average accuarcy 0.8237518956081832\n"
     ]
    }
   ],
   "source": [
    "\n",
    "accuracies=[]\n",
    "for train_index, test_index in kf.split(X_train):\n",
    "    \n",
    "    #train_index,test_index\n",
    "    data_train, data_test = X_train[train_index], X_train[test_index]\n",
    "    target_train, target_test = y_train[train_index], y_train[test_index]\n",
    "    k=SVC(gamma=g, C=c)\n",
    "    k.fit(data_train,target_train)\n",
    "    ypred = k.predict(data_test)\n",
    "    accuracy=accuracy_score(target_test,ypred)\n",
    "    \n",
    "    accuracies.append(accuracy)\n",
    "average_accuracy = np.mean(accuracies)\n",
    "\n",
    "print(\"Average accuarcy\",average_accuracy)"
   ]
  },
  {
   "cell_type": "code",
   "execution_count": 10,
   "metadata": {},
   "outputs": [
    {
     "data": {
      "text/plain": [
       "0.8237518956081832"
      ]
     },
     "execution_count": 10,
     "metadata": {},
     "output_type": "execute_result"
    }
   ],
   "source": [
    "from sklearn.model_selection import cross_val_score\n",
    "cv_score=cross_val_score(SVC(gamma=g, C=c),X_train,y_train,cv=kf)\n",
    "np.mean(cv_score)"
   ]
  },
  {
   "cell_type": "code",
   "execution_count": 11,
   "metadata": {
    "scrolled": true
   },
   "outputs": [
    {
     "data": {
      "text/plain": [
       "array([0, 1, 1, 0, 0, 1, 1, 0, 0, 1, 0, 0, 1, 0, 0, 0, 1, 1, 1, 0, 1, 1,\n",
       "       0, 0, 1, 1, 0, 1, 0, 0, 0, 1, 1, 0, 1, 0, 1, 0, 0, 0, 1, 1, 1, 1,\n",
       "       1, 0, 1, 0, 0, 1, 1, 0, 0, 1, 0, 0, 0, 0, 0, 1, 0, 0, 0, 0, 0, 0,\n",
       "       1, 1, 1, 0, 0, 1, 0, 1, 0, 0, 0, 0, 1, 0, 0, 0, 0, 1, 0, 0, 0, 0,\n",
       "       1, 0, 0, 0, 0, 1, 0, 0, 1, 0, 0, 1, 1, 1, 0, 1, 0, 0, 0, 1, 1, 1,\n",
       "       0, 0, 1, 1, 0, 1, 0, 0, 0, 0, 1, 1, 0, 1, 0, 0, 0, 0, 1, 1, 1, 1,\n",
       "       1, 0, 0, 0, 0, 1, 0, 1, 0, 1, 0, 1, 0, 0, 0, 0, 0, 1, 1, 0, 0, 0,\n",
       "       0, 1, 1, 0, 0, 1, 0, 0, 0, 0, 0, 1, 0, 0, 0, 1, 0, 0, 0, 1, 0, 1,\n",
       "       1, 0, 0, 0, 0, 0, 0, 0, 0, 1, 0, 1, 1, 1, 0, 1, 1, 1, 0, 0, 0, 0,\n",
       "       1, 1, 0, 1, 1, 0, 1, 0, 1, 0, 0, 1, 0, 0, 0, 1, 0, 1, 0, 0, 1, 0,\n",
       "       1, 1, 1, 1, 1, 0, 1, 0, 1, 0, 0, 0, 1, 0, 0, 0, 0, 0, 0, 1, 1, 0,\n",
       "       0, 1, 1, 0, 1, 0, 1, 1, 1, 0, 1, 0, 0, 0, 0, 1, 1, 0, 1, 1, 0, 1,\n",
       "       1, 0, 0, 0, 1, 1, 0, 0, 0, 0, 0, 0, 1, 0, 0, 1, 1, 1, 0, 1, 0, 1,\n",
       "       1, 1, 1, 0, 1, 0, 1, 1, 1, 1, 1, 0, 0, 0], dtype=int64)"
      ]
     },
     "execution_count": 11,
     "metadata": {},
     "output_type": "execute_result"
    }
   ],
   "source": [
    "svclassifier = SVC(gamma=g, C=c)  \n",
    "svclassifier.fit(X_train, y_train)\n",
    "y_pred = svclassifier.predict(X_cv) \n",
    "y_pred[0:300]\n"
   ]
  },
  {
   "cell_type": "code",
   "execution_count": 12,
   "metadata": {},
   "outputs": [
    {
     "name": "stdout",
     "output_type": "stream",
     "text": [
      "Stored 'svclassifier' (SVC)\n"
     ]
    }
   ],
   "source": [
    "%store svclassifier\n"
   ]
  },
  {
   "cell_type": "code",
   "execution_count": 13,
   "metadata": {
    "scrolled": true
   },
   "outputs": [
    {
     "name": "stdout",
     "output_type": "stream",
     "text": [
      "[[400  47]\n",
      " [ 88 324]]\n",
      "              precision    recall  f1-score   support\n",
      "\n",
      "           0       0.82      0.89      0.86       447\n",
      "           1       0.87      0.79      0.83       412\n",
      "\n",
      "    accuracy                           0.84       859\n",
      "   macro avg       0.85      0.84      0.84       859\n",
      "weighted avg       0.85      0.84      0.84       859\n",
      "\n"
     ]
    }
   ],
   "source": [
    "from sklearn.metrics import classification_report, confusion_matrix  \n",
    "print(confusion_matrix(y_cv, y_pred))  \n",
    "print(classification_report( y_cv,y_pred) )"
   ]
  },
  {
   "cell_type": "code",
   "execution_count": null,
   "metadata": {},
   "outputs": [],
   "source": []
  },
  {
   "cell_type": "code",
   "execution_count": null,
   "metadata": {},
   "outputs": [],
   "source": []
  },
  {
   "cell_type": "code",
   "execution_count": null,
   "metadata": {},
   "outputs": [],
   "source": []
  },
  {
   "cell_type": "code",
   "execution_count": null,
   "metadata": {},
   "outputs": [],
   "source": []
  },
  {
   "cell_type": "code",
   "execution_count": null,
   "metadata": {},
   "outputs": [],
   "source": []
  }
 ],
 "metadata": {
  "kernelspec": {
   "display_name": "Python 3",
   "language": "python",
   "name": "python3"
  },
  "language_info": {
   "codemirror_mode": {
    "name": "ipython",
    "version": 3
   },
   "file_extension": ".py",
   "mimetype": "text/x-python",
   "name": "python",
   "nbconvert_exporter": "python",
   "pygments_lexer": "ipython3",
   "version": "3.8.3"
  }
 },
 "nbformat": 4,
 "nbformat_minor": 2
}
